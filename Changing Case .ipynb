{
 "cells": [
  {
   "cell_type": "code",
   "execution_count": 19,
   "id": "903fae35",
   "metadata": {},
   "outputs": [],
   "source": [
    "name = \"pakistan\""
   ]
  },
  {
   "cell_type": "code",
   "execution_count": 21,
   "id": "0504e416",
   "metadata": {},
   "outputs": [
    {
     "data": {
      "text/plain": [
       "'PAKISTAN'"
      ]
     },
     "execution_count": 21,
     "metadata": {},
     "output_type": "execute_result"
    }
   ],
   "source": [
    "name.upper()"
   ]
  },
  {
   "cell_type": "code",
   "execution_count": 23,
   "id": "c8bbce51",
   "metadata": {},
   "outputs": [
    {
     "data": {
      "text/plain": [
       "'pakistan'"
      ]
     },
     "execution_count": 23,
     "metadata": {},
     "output_type": "execute_result"
    }
   ],
   "source": [
    "name.lower()"
   ]
  },
  {
   "cell_type": "code",
   "execution_count": 24,
   "id": "7f69a6ab",
   "metadata": {},
   "outputs": [],
   "source": [
    "name = \"PAKISTAN\""
   ]
  },
  {
   "cell_type": "code",
   "execution_count": 25,
   "id": "737b5a83",
   "metadata": {},
   "outputs": [
    {
     "data": {
      "text/plain": [
       "'Pakistan'"
      ]
     },
     "execution_count": 25,
     "metadata": {},
     "output_type": "execute_result"
    }
   ],
   "source": [
    "name.title()"
   ]
  },
  {
   "cell_type": "code",
   "execution_count": null,
   "id": "6fe66cbe",
   "metadata": {},
   "outputs": [],
   "source": []
  },
  {
   "cell_type": "code",
   "execution_count": null,
   "id": "dcbbd6a5",
   "metadata": {},
   "outputs": [],
   "source": []
  }
 ],
 "metadata": {
  "kernelspec": {
   "display_name": "Python 3 (ipykernel)",
   "language": "python",
   "name": "python3"
  },
  "language_info": {
   "codemirror_mode": {
    "name": "ipython",
    "version": 3
   },
   "file_extension": ".py",
   "mimetype": "text/x-python",
   "name": "python",
   "nbconvert_exporter": "python",
   "pygments_lexer": "ipython3",
   "version": "3.9.12"
  }
 },
 "nbformat": 4,
 "nbformat_minor": 5
}
