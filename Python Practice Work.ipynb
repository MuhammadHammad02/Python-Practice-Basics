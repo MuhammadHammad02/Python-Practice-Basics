{
 "cells": [
  {
   "cell_type": "code",
   "execution_count": 1,
   "id": "c3fc6df1",
   "metadata": {},
   "outputs": [
    {
     "name": "stdout",
     "output_type": "stream",
     "text": [
      "Rizwan\n"
     ]
    }
   ],
   "source": [
    "print(\"Rizwan\")"
   ]
  },
  {
   "cell_type": "code",
   "execution_count": 14,
   "id": "e9f7666e",
   "metadata": {},
   "outputs": [
    {
     "name": "stdout",
     "output_type": "stream",
     "text": [
      "Arshad Hammad Rizwan\n"
     ]
    }
   ],
   "source": [
    "print(\"Arshad\",\"Hammad\",\"Rizwan\" )"
   ]
  },
  {
   "cell_type": "code",
   "execution_count": 10,
   "id": "7104abdf",
   "metadata": {},
   "outputs": [
    {
     "name": "stdout",
     "output_type": "stream",
     "text": [
      "Arshad Hammad Rizwan\n"
     ]
    }
   ],
   "source": [
    "print(\"Arshad\",\"Hammad\",\"Rizwan\", )"
   ]
  },
  {
   "cell_type": "code",
   "execution_count": 25,
   "id": "af4d8153",
   "metadata": {},
   "outputs": [
    {
     "name": "stdout",
     "output_type": "stream",
     "text": [
      "['apple', 'banana', 'mango']\n"
     ]
    },
    {
     "ename": "NameError",
     "evalue": "name 'en' is not defined",
     "output_type": "error",
     "traceback": [
      "\u001b[1;31m---------------------------------------------------------------------------\u001b[0m",
      "\u001b[1;31mNameError\u001b[0m                                 Traceback (most recent call last)",
      "Input \u001b[1;32mIn [25]\u001b[0m, in \u001b[0;36m<cell line: 3>\u001b[1;34m()\u001b[0m\n\u001b[0;32m      1\u001b[0m thislist\u001b[38;5;241m=\u001b[39m [\u001b[38;5;124m\"\u001b[39m\u001b[38;5;124mapple\u001b[39m\u001b[38;5;124m\"\u001b[39m,\u001b[38;5;124m\"\u001b[39m\u001b[38;5;124mbanana\u001b[39m\u001b[38;5;124m\"\u001b[39m,\u001b[38;5;124m\"\u001b[39m\u001b[38;5;124mmango\u001b[39m\u001b[38;5;124m\"\u001b[39m]\n\u001b[0;32m      2\u001b[0m \u001b[38;5;28mprint\u001b[39m(thislist)\n\u001b[1;32m----> 3\u001b[0m \u001b[38;5;28mprint\u001b[39m(\u001b[43men\u001b[49m(thislist))\n",
      "\u001b[1;31mNameError\u001b[0m: name 'en' is not defined"
     ]
    }
   ],
   "source": [
    "thislist= [\"apple\",\"banana\",\"mango\"]\n",
    "print(thislist)\n",
    "print(en(thislist))"
   ]
  },
  {
   "cell_type": "code",
   "execution_count": 23,
   "id": "f50fa956",
   "metadata": {},
   "outputs": [
    {
     "name": "stdout",
     "output_type": "stream",
     "text": [
      "['apple', 'banana', 'mango']\n"
     ]
    }
   ],
   "source": [
    "thislist= [\"apple\",\"banana\",\"mango\"]\n",
    "print(thislist)\n"
   ]
  },
  {
   "cell_type": "code",
   "execution_count": 24,
   "id": "069f8bd0",
   "metadata": {},
   "outputs": [
    {
     "ename": "NameError",
     "evalue": "name 'Len' is not defined",
     "output_type": "error",
     "traceback": [
      "\u001b[1;31m---------------------------------------------------------------------------\u001b[0m",
      "\u001b[1;31mNameError\u001b[0m                                 Traceback (most recent call last)",
      "Input \u001b[1;32mIn [24]\u001b[0m, in \u001b[0;36m<cell line: 1>\u001b[1;34m()\u001b[0m\n\u001b[1;32m----> 1\u001b[0m \u001b[38;5;28mprint\u001b[39m(\u001b[43mLen\u001b[49m(thislist))\n",
      "\u001b[1;31mNameError\u001b[0m: name 'Len' is not defined"
     ]
    }
   ],
   "source": [
    "print(len(thislist))"
   ]
  },
  {
   "cell_type": "code",
   "execution_count": 26,
   "id": "268725c3",
   "metadata": {},
   "outputs": [
    {
     "name": "stdout",
     "output_type": "stream",
     "text": [
      "['apple', 'banana', 'mango']\n"
     ]
    }
   ],
   "source": [
    "thislist= [\"apple\",\"banana\",\"mango\"]\n",
    "print(thislist)\n"
   ]
  },
  {
   "cell_type": "code",
   "execution_count": 27,
   "id": "e4ce4b19",
   "metadata": {},
   "outputs": [
    {
     "name": "stdout",
     "output_type": "stream",
     "text": [
      "3\n"
     ]
    }
   ],
   "source": [
    "print(len(thislist))"
   ]
  },
  {
   "cell_type": "code",
   "execution_count": 28,
   "id": "66b9dc98",
   "metadata": {},
   "outputs": [
    {
     "name": "stdout",
     "output_type": "stream",
     "text": [
      "['apple', 'pineapple', 'mango']\n"
     ]
    }
   ],
   "source": [
    "thislist= [\"apple\",\"banana\",\"mango\"]\n",
    "thislist[1]= \"pineapple\"\n",
    "print(thislist)"
   ]
  },
  {
   "cell_type": "code",
   "execution_count": 29,
   "id": "cd74a569",
   "metadata": {},
   "outputs": [
    {
     "name": "stdout",
     "output_type": "stream",
     "text": [
      "7\n"
     ]
    }
   ],
   "source": [
    "thislist= [\"apple\",\"banana\",\"mango\",\"strawberry\",\"peach\",\"pineapple\",\"coconut\"]\n",
    "print(len(thislist))"
   ]
  },
  {
   "cell_type": "code",
   "execution_count": 36,
   "id": "81b7fb2c",
   "metadata": {},
   "outputs": [
    {
     "name": "stdout",
     "output_type": "stream",
     "text": [
      "['mango', 'strawberry', 'peach', 'pineapple']\n"
     ]
    }
   ],
   "source": [
    "thislist= [\"apple\",\"banana\",\"mango\",\"strawberry\",\"peach\",\"pineapple\",\"coconut\"]\n",
    "print(thislist[2:6])"
   ]
  },
  {
   "cell_type": "code",
   "execution_count": 38,
   "id": "80ab41ae",
   "metadata": {},
   "outputs": [
    {
     "name": "stdout",
     "output_type": "stream",
     "text": [
      "['apple', 'banana', 'melon', 'grapes', 'tomato', 'avocado', 'coconut']\n"
     ]
    }
   ],
   "source": [
    "thislist= [\"apple\",\"banana\",\"mango\",\"strawberry\",\"peach\",\"pineapple\",\"coconut\"]\n",
    "thislist[2:6]= \"melon\",\"grapes\",\"tomato\",\"avocado\"\n",
    "print(thislist)"
   ]
  },
  {
   "cell_type": "code",
   "execution_count": 41,
   "id": "bfd3b4ad",
   "metadata": {},
   "outputs": [
    {
     "name": "stdout",
     "output_type": "stream",
     "text": [
      "['apple', 'melon', 'grapes', 'tomato', 'avocado', 'peach', 'pineapple', 'coconut']\n"
     ]
    }
   ],
   "source": [
    "thislist= [\"apple\",\"banana\",\"mango\",\"strawberry\",\"peach\",\"pineapple\",\"coconut\"]\n",
    "thislist[1:4]= \"melon\",\"grapes\",\"tomato\",\"avocado\"\n",
    "print(thislist)"
   ]
  },
  {
   "cell_type": "code",
   "execution_count": 43,
   "id": "2f8a5b88",
   "metadata": {},
   "outputs": [
    {
     "name": "stdout",
     "output_type": "stream",
     "text": [
      "['apple', 'banana', 'potato', 'orange']\n"
     ]
    }
   ],
   "source": [
    "thislist= [\"apple\",\"banana\",\"orange\"]\n",
    "thislist.insert(2,\"potato\")\n",
    "print(thislist)\n"
   ]
  },
  {
   "cell_type": "code",
   "execution_count": 44,
   "id": "00e2e650",
   "metadata": {},
   "outputs": [
    {
     "name": "stdout",
     "output_type": "stream",
     "text": [
      "['apple', 'banana', 'cherry', 'onion']\n"
     ]
    }
   ],
   "source": [
    "thislist = [\"apple\", \"banana\", \"cherry\"]\n",
    "thislist.append(\"onion\")\n",
    "print(thislist)"
   ]
  },
  {
   "cell_type": "code",
   "execution_count": 45,
   "id": "7e233772",
   "metadata": {},
   "outputs": [
    {
     "name": "stdout",
     "output_type": "stream",
     "text": [
      "['apple', 'banana', 'cherry', 'mango', 'pineapple', 'papaya']\n"
     ]
    }
   ],
   "source": [
    "thislist = [\"apple\", \"banana\", \"cherry\"]\n",
    "tropical = [\"mango\", \"pineapple\", \"papaya\"]\n",
    "thislist.extend(tropical)\n",
    "print(thislist)"
   ]
  },
  {
   "cell_type": "code",
   "execution_count": 3,
   "id": "cbce8d80",
   "metadata": {},
   "outputs": [
    {
     "name": "stdout",
     "output_type": "stream",
     "text": [
      "['apple', 'mango', 'pineapple']\n"
     ]
    }
   ],
   "source": [
    "fruits= [\"apple\",\"mango\",\"pineapple\"]\n",
    "print(fruits)\n"
   ]
  },
  {
   "cell_type": "code",
   "execution_count": 4,
   "id": "3827c4e4",
   "metadata": {},
   "outputs": [
    {
     "data": {
      "text/plain": [
       "3"
      ]
     },
     "execution_count": 4,
     "metadata": {},
     "output_type": "execute_result"
    }
   ],
   "source": [
    "len(fruits)"
   ]
  },
  {
   "cell_type": "code",
   "execution_count": 5,
   "id": "27d1e9ea",
   "metadata": {},
   "outputs": [],
   "source": [
    "fruits.append(\"orange\")\n"
   ]
  },
  {
   "cell_type": "code",
   "execution_count": 6,
   "id": "5e5cf822",
   "metadata": {},
   "outputs": [
    {
     "data": {
      "text/plain": [
       "['apple', 'mango', 'pineapple', 'orange']"
      ]
     },
     "execution_count": 6,
     "metadata": {},
     "output_type": "execute_result"
    }
   ],
   "source": [
    "fruits"
   ]
  },
  {
   "cell_type": "code",
   "execution_count": 7,
   "id": "b414219c",
   "metadata": {},
   "outputs": [],
   "source": [
    "fruits.insert(2,(\"kiwi\"))"
   ]
  },
  {
   "cell_type": "code",
   "execution_count": 8,
   "id": "02fdd5cc",
   "metadata": {},
   "outputs": [
    {
     "data": {
      "text/plain": [
       "['apple', 'mango', 'kiwi', 'pineapple', 'orange']"
      ]
     },
     "execution_count": 8,
     "metadata": {},
     "output_type": "execute_result"
    }
   ],
   "source": [
    "fruits"
   ]
  },
  {
   "cell_type": "code",
   "execution_count": 11,
   "id": "2fcb2d2d",
   "metadata": {},
   "outputs": [],
   "source": [
    "fruits.extend([\"mango\",\"coconut\",\"grapes\",\"cherry\"])\n",
    "\n"
   ]
  },
  {
   "cell_type": "code",
   "execution_count": 12,
   "id": "2b46db4d",
   "metadata": {},
   "outputs": [
    {
     "data": {
      "text/plain": [
       "['apple',\n",
       " 'mango',\n",
       " 'kiwi',\n",
       " 'pineapple',\n",
       " 'orange',\n",
       " 'mango',\n",
       " 'coconut',\n",
       " 'grapes',\n",
       " 'cherry']"
      ]
     },
     "execution_count": 12,
     "metadata": {},
     "output_type": "execute_result"
    }
   ],
   "source": [
    "fruits"
   ]
  },
  {
   "cell_type": "code",
   "execution_count": 13,
   "id": "fa8e09a0",
   "metadata": {},
   "outputs": [
    {
     "data": {
      "text/plain": [
       "2"
      ]
     },
     "execution_count": 13,
     "metadata": {},
     "output_type": "execute_result"
    }
   ],
   "source": [
    "fruits.count(\"mango\")"
   ]
  },
  {
   "cell_type": "code",
   "execution_count": 14,
   "id": "15d8919f",
   "metadata": {},
   "outputs": [
    {
     "data": {
      "text/plain": [
       "1"
      ]
     },
     "execution_count": 14,
     "metadata": {},
     "output_type": "execute_result"
    }
   ],
   "source": [
    "fruits.count(\"kiwi\")"
   ]
  },
  {
   "cell_type": "code",
   "execution_count": 17,
   "id": "8c3efe3f",
   "metadata": {},
   "outputs": [
    {
     "data": {
      "text/plain": [
       "1"
      ]
     },
     "execution_count": 17,
     "metadata": {},
     "output_type": "execute_result"
    }
   ],
   "source": [
    "fruits.index(\"mango\")"
   ]
  },
  {
   "cell_type": "code",
   "execution_count": 18,
   "id": "4b1364e8",
   "metadata": {},
   "outputs": [
    {
     "data": {
      "text/plain": [
       "4"
      ]
     },
     "execution_count": 18,
     "metadata": {},
     "output_type": "execute_result"
    }
   ],
   "source": [
    "fruits.index(\"orange\")"
   ]
  },
  {
   "cell_type": "code",
   "execution_count": 19,
   "id": "0cc514c2",
   "metadata": {},
   "outputs": [],
   "source": [
    "fruits.sort()"
   ]
  },
  {
   "cell_type": "code",
   "execution_count": 20,
   "id": "b6fdc24a",
   "metadata": {},
   "outputs": [
    {
     "data": {
      "text/plain": [
       "['apple',\n",
       " 'cherry',\n",
       " 'coconut',\n",
       " 'grapes',\n",
       " 'kiwi',\n",
       " 'mango',\n",
       " 'mango',\n",
       " 'orange',\n",
       " 'pineapple']"
      ]
     },
     "execution_count": 20,
     "metadata": {},
     "output_type": "execute_result"
    }
   ],
   "source": [
    "fruits\n"
   ]
  },
  {
   "cell_type": "code",
   "execution_count": 21,
   "id": "c053d577",
   "metadata": {},
   "outputs": [],
   "source": [
    "fruits.reverse()"
   ]
  },
  {
   "cell_type": "code",
   "execution_count": 22,
   "id": "78a60f2a",
   "metadata": {},
   "outputs": [
    {
     "data": {
      "text/plain": [
       "['pineapple',\n",
       " 'orange',\n",
       " 'mango',\n",
       " 'mango',\n",
       " 'kiwi',\n",
       " 'grapes',\n",
       " 'coconut',\n",
       " 'cherry',\n",
       " 'apple']"
      ]
     },
     "execution_count": 22,
     "metadata": {},
     "output_type": "execute_result"
    }
   ],
   "source": [
    "fruits"
   ]
  },
  {
   "cell_type": "code",
   "execution_count": 23,
   "id": "8e710f6a",
   "metadata": {},
   "outputs": [],
   "source": [
    "fruits.remove(\"mango\")"
   ]
  },
  {
   "cell_type": "code",
   "execution_count": 24,
   "id": "7e6c2b37",
   "metadata": {},
   "outputs": [
    {
     "data": {
      "text/plain": [
       "['pineapple',\n",
       " 'orange',\n",
       " 'mango',\n",
       " 'kiwi',\n",
       " 'grapes',\n",
       " 'coconut',\n",
       " 'cherry',\n",
       " 'apple']"
      ]
     },
     "execution_count": 24,
     "metadata": {},
     "output_type": "execute_result"
    }
   ],
   "source": [
    "fruits\n"
   ]
  },
  {
   "cell_type": "code",
   "execution_count": 25,
   "id": "cb6ffc3e",
   "metadata": {},
   "outputs": [],
   "source": [
    "fruits.remove(\"mango\")"
   ]
  },
  {
   "cell_type": "code",
   "execution_count": 27,
   "id": "b3c9624e",
   "metadata": {},
   "outputs": [],
   "source": [
    "fruits.clear()\n"
   ]
  },
  {
   "cell_type": "code",
   "execution_count": 28,
   "id": "df59d39b",
   "metadata": {},
   "outputs": [
    {
     "data": {
      "text/plain": [
       "[]"
      ]
     },
     "execution_count": 28,
     "metadata": {},
     "output_type": "execute_result"
    }
   ],
   "source": [
    "fruits\n"
   ]
  },
  {
   "cell_type": "code",
   "execution_count": 29,
   "id": "1efade00",
   "metadata": {},
   "outputs": [],
   "source": [
    "fruits= [\"apple\",\"mango\",\"pineapple\"]\n"
   ]
  },
  {
   "cell_type": "code",
   "execution_count": 30,
   "id": "f1eb34e6",
   "metadata": {},
   "outputs": [
    {
     "data": {
      "text/plain": [
       "['apple', 'mango', 'pineapple']"
      ]
     },
     "execution_count": 30,
     "metadata": {},
     "output_type": "execute_result"
    }
   ],
   "source": [
    "fruits"
   ]
  },
  {
   "cell_type": "code",
   "execution_count": 32,
   "id": "47ad2316",
   "metadata": {},
   "outputs": [
    {
     "data": {
      "text/plain": [
       "['apple', 'mango', 'pineapple']"
      ]
     },
     "execution_count": 32,
     "metadata": {},
     "output_type": "execute_result"
    }
   ],
   "source": [
    "fruits.copy()"
   ]
  },
  {
   "cell_type": "code",
   "execution_count": 33,
   "id": "f85ae6f8",
   "metadata": {},
   "outputs": [],
   "source": [
    "fruits.clear()"
   ]
  },
  {
   "cell_type": "code",
   "execution_count": 34,
   "id": "c50b0a0d",
   "metadata": {},
   "outputs": [
    {
     "data": {
      "text/plain": [
       "[]"
      ]
     },
     "execution_count": 34,
     "metadata": {},
     "output_type": "execute_result"
    }
   ],
   "source": [
    "fruits"
   ]
  },
  {
   "cell_type": "code",
   "execution_count": 35,
   "id": "c8487fe7",
   "metadata": {},
   "outputs": [
    {
     "name": "stdout",
     "output_type": "stream",
     "text": [
      "['apple', 'mango', 'pineapple']\n"
     ]
    }
   ],
   "source": [
    "fruits= [\"apple\",\"mango\",\"pineapple\"]\n",
    "print(fruits)"
   ]
  },
  {
   "cell_type": "code",
   "execution_count": 2,
   "id": "0e95eadb",
   "metadata": {},
   "outputs": [
    {
     "ename": "SyntaxError",
     "evalue": "invalid syntax (836015130.py, line 1)",
     "output_type": "error",
     "traceback": [
      "\u001b[1;36m  Input \u001b[1;32mIn [2]\u001b[1;36m\u001b[0m\n\u001b[1;33m    for a in number [1,10]\u001b[0m\n\u001b[1;37m                          ^\u001b[0m\n\u001b[1;31mSyntaxError\u001b[0m\u001b[1;31m:\u001b[0m invalid syntax\n"
     ]
    }
   ],
   "source": [
    "for a in number [1,10]\n",
    "print (a)"
   ]
  },
  {
   "cell_type": "code",
   "execution_count": 1,
   "id": "bd2ad662",
   "metadata": {},
   "outputs": [
    {
     "name": "stdout",
     "output_type": "stream",
     "text": [
      "wali\n",
      "wali\n",
      "wali\n",
      "wali\n",
      "wali\n"
     ]
    }
   ],
   "source": [
    "for a in range(5):\n",
    "    print(\"wali\")"
   ]
  },
  {
   "cell_type": "code",
   "execution_count": 3,
   "id": "b02edda2",
   "metadata": {},
   "outputs": [
    {
     "name": "stdout",
     "output_type": "stream",
     "text": [
      "Qureshi\n",
      "Qureshi\n",
      "Qureshi\n",
      "Qureshi\n"
     ]
    }
   ],
   "source": [
    "for a in range(1,5):\n",
    "    print(\"Qureshi\")"
   ]
  },
  {
   "cell_type": "code",
   "execution_count": 5,
   "id": "e31d9e1c",
   "metadata": {},
   "outputs": [
    {
     "name": "stdout",
     "output_type": "stream",
     "text": [
      "0 ALi\n",
      "1 ALi\n",
      "2 ALi\n",
      "3 ALi\n",
      "4 ALi\n"
     ]
    }
   ],
   "source": [
    "for a in range(5):\n",
    "    print(a, \"ALi\")"
   ]
  },
  {
   "cell_type": "code",
   "execution_count": 7,
   "id": "42750762",
   "metadata": {},
   "outputs": [
    {
     "name": "stdout",
     "output_type": "stream",
     "text": [
      "1 Rizwan\n",
      "2 Rizwan\n",
      "3 Rizwan\n",
      "4 Rizwan\n",
      "5 Rizwan\n"
     ]
    }
   ],
   "source": [
    "for a in range(1,6):\n",
    "    print(a, \"Rizwan\")"
   ]
  },
  {
   "cell_type": "code",
   "execution_count": 14,
   "id": "10da97e5",
   "metadata": {},
   "outputs": [
    {
     "name": "stdout",
     "output_type": "stream",
     "text": [
      "1\n",
      "11\n",
      "21\n",
      "31\n",
      "41\n",
      "51\n",
      "61\n",
      "71\n",
      "81\n",
      "91\n"
     ]
    }
   ],
   "source": [
    "for number in range(1,100,10):\n",
    "    print(number)"
   ]
  },
  {
   "cell_type": "code",
   "execution_count": 24,
   "id": "be30bfad",
   "metadata": {},
   "outputs": [
    {
     "name": "stdout",
     "output_type": "stream",
     "text": [
      "100\n",
      "90\n",
      "80\n",
      "70\n",
      "60\n",
      "50\n",
      "40\n",
      "30\n",
      "20\n",
      "10\n"
     ]
    }
   ],
   "source": [
    "for number in range (100,0,-10):\n",
    "    print(number)"
   ]
  },
  {
   "cell_type": "code",
   "execution_count": 26,
   "id": "47634a52",
   "metadata": {},
   "outputs": [
    {
     "name": "stdout",
     "output_type": "stream",
     "text": [
      "the city in under consideration is Karachi\n",
      "the city in under consideration is Multan\n",
      "the city in under consideration is Faislabad\n",
      "the city in under consideration is Quetta\n",
      "the city in under consideration is Islamabad\n"
     ]
    }
   ],
   "source": [
    "cities= [\"Karachi\",\"Multan\",\"Faislabad\",\"Quetta\",\"Islamabad\"]\n",
    "for city in cities:\n",
    "    print(f\"the city in under consideration is {city}\")"
   ]
  },
  {
   "cell_type": "code",
   "execution_count": null,
   "id": "cb2d7239",
   "metadata": {},
   "outputs": [],
   "source": []
  }
 ],
 "metadata": {
  "kernelspec": {
   "display_name": "Python 3 (ipykernel)",
   "language": "python",
   "name": "python3"
  },
  "language_info": {
   "codemirror_mode": {
    "name": "ipython",
    "version": 3
   },
   "file_extension": ".py",
   "mimetype": "text/x-python",
   "name": "python",
   "nbconvert_exporter": "python",
   "pygments_lexer": "ipython3",
   "version": "3.9.12"
  }
 },
 "nbformat": 4,
 "nbformat_minor": 5
}
