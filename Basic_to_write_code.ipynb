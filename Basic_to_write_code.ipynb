{
  "nbformat": 4,
  "nbformat_minor": 0,
  "metadata": {
    "colab": {
      "provenance": [],
      "authorship_tag": "ABX9TyPYlDF0ymzNVF1dSobQKQ4T",
      "include_colab_link": true
    },
    "kernelspec": {
      "name": "python3",
      "display_name": "Python 3"
    },
    "language_info": {
      "name": "python"
    }
  },
  "cells": [
    {
      "cell_type": "markdown",
      "metadata": {
        "id": "view-in-github",
        "colab_type": "text"
      },
      "source": [
        "<a href=\"https://colab.research.google.com/github/MuhammadHammad02/Python-Practice-Basics/blob/main/Basic_to_write_code.ipynb\" target=\"_parent\"><img src=\"https://colab.research.google.com/assets/colab-badge.svg\" alt=\"Open In Colab\"/></a>"
      ]
    },
    {
      "cell_type": "code",
      "execution_count": 3,
      "metadata": {
        "id": "fgnq9Ni93Ixz"
      },
      "outputs": [],
      "source": [
        "name = \"Hammad\"\n",
        "age = 35\n",
        "salary = 50000\n"
      ]
    },
    {
      "cell_type": "code",
      "source": [
        "#aprroach no 1 to write code\n",
        "\n",
        "name,age,salary = 'Hammad',35,50000\n",
        "\n",
        "print(name)\n",
        "print(age)\n",
        "print(salary)\n",
        "\n",
        "print('name',age,salary)"
      ],
      "metadata": {
        "colab": {
          "base_uri": "https://localhost:8080/"
        },
        "id": "udWrIopX3VIq",
        "outputId": "4f71fc2e-1261-4ce9-d772-feb2c0dc2156"
      },
      "execution_count": 4,
      "outputs": [
        {
          "output_type": "stream",
          "name": "stdout",
          "text": [
            "Hammad\n",
            "35\n",
            "50000\n",
            "name 35 50000\n"
          ]
        }
      ]
    },
    {
      "cell_type": "code",
      "source": [
        "#approach 2 using seperator\n",
        "print(\"Name is\", name)\n",
        "print(\"Age is \", age)\n",
        "print(\"Salary is \", salary)"
      ],
      "metadata": {
        "colab": {
          "base_uri": "https://localhost:8080/"
        },
        "id": "FWL8_gu16Qj7",
        "outputId": "b680a564-ab02-41f7-f9c6-268d9e76c233"
      },
      "execution_count": 5,
      "outputs": [
        {
          "output_type": "stream",
          "name": "stdout",
          "text": [
            "Name is Hammad\n",
            "Age is  35\n",
            "Salary is  50000\n"
          ]
        }
      ]
    },
    {
      "cell_type": "code",
      "source": [
        "#Approach 3 is %\n",
        "# %s is string\n",
        "# %d is digit (number)\n",
        "# %g is decimal\n",
        "\n",
        "print(\"Name is: %s Age is: %d Salary is: %g\" %(name,age,salary))"
      ],
      "metadata": {
        "colab": {
          "base_uri": "https://localhost:8080/"
        },
        "id": "hY5XG6G_7EPa",
        "outputId": "e90d6adf-fbec-48c2-c1ad-9f05056c8ae6"
      },
      "execution_count": 7,
      "outputs": [
        {
          "output_type": "stream",
          "name": "stdout",
          "text": [
            "Name is: Hammad Age is: 35 Salary is: 50000\n"
          ]
        }
      ]
    },
    {
      "cell_type": "code",
      "source": [
        "#Approach 4 is {}\n",
        "\n",
        "print(\"Name is: {} Age is: {} Salary is: {}\" .format(name,age,salary))"
      ],
      "metadata": {
        "colab": {
          "base_uri": "https://localhost:8080/"
        },
        "id": "3liqqw_P8Mpz",
        "outputId": "18d02ce5-cbbc-4cac-c331-81135ac08bcc"
      },
      "execution_count": 8,
      "outputs": [
        {
          "output_type": "stream",
          "name": "stdout",
          "text": [
            "Name is: Hammad Age is: 35 Salary is: 50000\n"
          ]
        }
      ]
    }
  ]
}