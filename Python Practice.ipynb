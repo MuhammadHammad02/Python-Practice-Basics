{
 "cells": [
  {
   "cell_type": "code",
   "execution_count": 1,
   "id": "7c68e0d1",
   "metadata": {},
   "outputs": [
    {
     "name": "stdout",
     "output_type": "stream",
     "text": [
      "Hello world!\n",
      "Hello 1\n",
      "Hello World\n",
      "Hello World Hello world1236\n"
     ]
    }
   ],
   "source": [
    "print(\"Hello world!\")\n",
    "print(\"Hello 1\")\n",
    "print('Hello World')\n",
    "print(\"Hello World\" , 'Hello world1236')"
   ]
  },
  {
   "cell_type": "code",
   "execution_count": 5,
   "id": "17d5f36d",
   "metadata": {},
   "outputs": [
    {
     "name": "stdout",
     "output_type": "stream",
     "text": [
      "Hello World.........Python\n"
     ]
    }
   ],
   "source": [
    "print(\"Hello World\", 'Python',sep=\".........\")"
   ]
  },
  {
   "cell_type": "code",
   "execution_count": 9,
   "id": "485345cc",
   "metadata": {},
   "outputs": [
    {
     "name": "stdout",
     "output_type": "stream",
     "text": [
      "Hello world! 2132 Hello 1Hello WorldHello World Hello world1236\n"
     ]
    }
   ],
   "source": [
    "print(\"Hello world!\", end=\" 2132 \")\n",
    "print(\"Hello 1\", end=\"/t\")\n",
    "print('Hello World', end=\"\")\n",
    "print(\"Hello World\" , 'Hello world1236')"
   ]
  },
  {
   "cell_type": "code",
   "execution_count": 14,
   "id": "5c265a6b",
   "metadata": {},
   "outputs": [
    {
     "name": "stdout",
     "output_type": "stream",
     "text": [
      "Hello world!/nHello 1/nHello World/nHello World Hello world1236\n"
     ]
    }
   ],
   "source": [
    "print(\"Hello world!\", end=\"/n\")\n",
    "print(\"Hello 1\", end=\"/n\")\n",
    "print('Hello World', end=\"/n\")\n",
    "print(\"Hello World\" , 'Hello world1236')"
   ]
  },
  {
   "cell_type": "code",
   "execution_count": 16,
   "id": "949575a0",
   "metadata": {},
   "outputs": [
    {
     "name": "stdout",
     "output_type": "stream",
     "text": [
      "hello1\n",
      "\n",
      "Hello world!\n",
      "\n",
      "Hello 1\n",
      "\n",
      "Hello World\n",
      "\n",
      "Hello World Hello world1236\n"
     ]
    }
   ],
   "source": [
    "print(\"hello1\", end=\"\\n\\n\" )\n",
    "print(\"Hello world!\", end=\"\\n\\n\")\n",
    "print(\"Hello 1\", end=\"\\n\\n\")\n",
    "print('Hello World', end=\"\\n\\n\")\n",
    "print(\"Hello World\" , 'Hello world1236')"
   ]
  },
  {
   "cell_type": "code",
   "execution_count": 1,
   "id": "a3b9b653",
   "metadata": {},
   "outputs": [],
   "source": [
    "list1 = ['apple','mango','orange']\n"
   ]
  },
  {
   "cell_type": "code",
   "execution_count": 3,
   "id": "59a9a0f0",
   "metadata": {},
   "outputs": [
    {
     "data": {
      "text/plain": [
       "['apple', 'mango', 'orange']"
      ]
     },
     "execution_count": 3,
     "metadata": {},
     "output_type": "execute_result"
    }
   ],
   "source": [
    "list1"
   ]
  },
  {
   "cell_type": "code",
   "execution_count": 4,
   "id": "c4bb3a19",
   "metadata": {},
   "outputs": [
    {
     "data": {
      "text/plain": [
       "3"
      ]
     },
     "execution_count": 4,
     "metadata": {},
     "output_type": "execute_result"
    }
   ],
   "source": [
    "len(list1)"
   ]
  },
  {
   "cell_type": "code",
   "execution_count": 7,
   "id": "3ab03988",
   "metadata": {},
   "outputs": [],
   "source": [
    "list1.append('kiwi')"
   ]
  },
  {
   "cell_type": "code",
   "execution_count": 6,
   "id": "58da2f73",
   "metadata": {},
   "outputs": [
    {
     "data": {
      "text/plain": [
       "['apple', 'mango', 'orange']"
      ]
     },
     "execution_count": 6,
     "metadata": {},
     "output_type": "execute_result"
    }
   ],
   "source": [
    "list1"
   ]
  },
  {
   "cell_type": "code",
   "execution_count": 8,
   "id": "dfc2a32b",
   "metadata": {},
   "outputs": [
    {
     "data": {
      "text/plain": [
       "['apple', 'mango', 'orange', 'kiwi']"
      ]
     },
     "execution_count": 8,
     "metadata": {},
     "output_type": "execute_result"
    }
   ],
   "source": [
    "list1"
   ]
  },
  {
   "cell_type": "code",
   "execution_count": 10,
   "id": "53a449cc",
   "metadata": {},
   "outputs": [],
   "source": [
    "list1.append('cherry')"
   ]
  },
  {
   "cell_type": "code",
   "execution_count": 11,
   "id": "ab54bdeb",
   "metadata": {},
   "outputs": [
    {
     "data": {
      "text/plain": [
       "['apple', 'mango', 'orange', 'kiwi', 'cherry']"
      ]
     },
     "execution_count": 11,
     "metadata": {},
     "output_type": "execute_result"
    }
   ],
   "source": [
    "list1"
   ]
  },
  {
   "cell_type": "code",
   "execution_count": 12,
   "id": "170c00f2",
   "metadata": {},
   "outputs": [],
   "source": [
    "list1.append('pineapple')"
   ]
  },
  {
   "cell_type": "code",
   "execution_count": 13,
   "id": "142323fa",
   "metadata": {},
   "outputs": [],
   "source": [
    "list1.append('coconut')"
   ]
  },
  {
   "cell_type": "code",
   "execution_count": 14,
   "id": "4e0362a1",
   "metadata": {},
   "outputs": [
    {
     "data": {
      "text/plain": [
       "['apple', 'mango', 'orange', 'kiwi', 'cherry', 'pineapple', 'coconut']"
      ]
     },
     "execution_count": 14,
     "metadata": {},
     "output_type": "execute_result"
    }
   ],
   "source": [
    "list1\n"
   ]
  },
  {
   "cell_type": "code",
   "execution_count": 15,
   "id": "d7d6403e",
   "metadata": {},
   "outputs": [],
   "source": [
    "list1.insert(1,\"grapes\")"
   ]
  },
  {
   "cell_type": "code",
   "execution_count": 16,
   "id": "7868a45d",
   "metadata": {},
   "outputs": [
    {
     "data": {
      "text/plain": [
       "['apple',\n",
       " 'grapes',\n",
       " 'mango',\n",
       " 'orange',\n",
       " 'kiwi',\n",
       " 'cherry',\n",
       " 'pineapple',\n",
       " 'coconut']"
      ]
     },
     "execution_count": 16,
     "metadata": {},
     "output_type": "execute_result"
    }
   ],
   "source": [
    "list1"
   ]
  },
  {
   "cell_type": "code",
   "execution_count": 18,
   "id": "f19fb296",
   "metadata": {},
   "outputs": [],
   "source": [
    "list1.insert(3,'peach')"
   ]
  },
  {
   "cell_type": "code",
   "execution_count": 19,
   "id": "a647eed0",
   "metadata": {},
   "outputs": [
    {
     "data": {
      "text/plain": [
       "['apple',\n",
       " 'grapes',\n",
       " 'mango',\n",
       " 'peach',\n",
       " 'orange',\n",
       " 'kiwi',\n",
       " 'cherry',\n",
       " 'pineapple',\n",
       " 'coconut']"
      ]
     },
     "execution_count": 19,
     "metadata": {},
     "output_type": "execute_result"
    }
   ],
   "source": [
    "list1"
   ]
  },
  {
   "cell_type": "code",
   "execution_count": 20,
   "id": "b6c645bb",
   "metadata": {},
   "outputs": [],
   "source": [
    "list1.insert(4,'avacado')"
   ]
  },
  {
   "cell_type": "code",
   "execution_count": 21,
   "id": "21120089",
   "metadata": {},
   "outputs": [
    {
     "data": {
      "text/plain": [
       "['apple',\n",
       " 'grapes',\n",
       " 'mango',\n",
       " 'peach',\n",
       " 'avacado',\n",
       " 'orange',\n",
       " 'kiwi',\n",
       " 'cherry',\n",
       " 'pineapple',\n",
       " 'coconut']"
      ]
     },
     "execution_count": 21,
     "metadata": {},
     "output_type": "execute_result"
    }
   ],
   "source": [
    "list1"
   ]
  },
  {
   "cell_type": "code",
   "execution_count": 22,
   "id": "2f95ab51",
   "metadata": {},
   "outputs": [],
   "source": [
    "list1.insert(5,'blueberry')"
   ]
  },
  {
   "cell_type": "code",
   "execution_count": 23,
   "id": "d654a311",
   "metadata": {},
   "outputs": [
    {
     "data": {
      "text/plain": [
       "['apple',\n",
       " 'grapes',\n",
       " 'mango',\n",
       " 'peach',\n",
       " 'avacado',\n",
       " 'blueberry',\n",
       " 'orange',\n",
       " 'kiwi',\n",
       " 'cherry',\n",
       " 'pineapple',\n",
       " 'coconut']"
      ]
     },
     "execution_count": 23,
     "metadata": {},
     "output_type": "execute_result"
    }
   ],
   "source": [
    "list1"
   ]
  },
  {
   "cell_type": "code",
   "execution_count": 25,
   "id": "eb7f6c48",
   "metadata": {},
   "outputs": [],
   "source": [
    "list1.extend(['palm','olive','banana','chiku'])"
   ]
  },
  {
   "cell_type": "code",
   "execution_count": 26,
   "id": "30a999a7",
   "metadata": {},
   "outputs": [
    {
     "data": {
      "text/plain": [
       "['apple',\n",
       " 'grapes',\n",
       " 'mango',\n",
       " 'peach',\n",
       " 'avacado',\n",
       " 'blueberry',\n",
       " 'orange',\n",
       " 'kiwi',\n",
       " 'cherry',\n",
       " 'pineapple',\n",
       " 'coconut',\n",
       " 'palm',\n",
       " 'olive',\n",
       " 'banana',\n",
       " 'chiku']"
      ]
     },
     "execution_count": 26,
     "metadata": {},
     "output_type": "execute_result"
    }
   ],
   "source": [
    "list1\n"
   ]
  },
  {
   "cell_type": "code",
   "execution_count": 28,
   "id": "2c974ce3",
   "metadata": {},
   "outputs": [
    {
     "data": {
      "text/plain": [
       "1"
      ]
     },
     "execution_count": 28,
     "metadata": {},
     "output_type": "execute_result"
    }
   ],
   "source": [
    "list1.count('olive')"
   ]
  },
  {
   "cell_type": "code",
   "execution_count": 29,
   "id": "651c566c",
   "metadata": {},
   "outputs": [
    {
     "data": {
      "text/plain": [
       "6"
      ]
     },
     "execution_count": 29,
     "metadata": {},
     "output_type": "execute_result"
    }
   ],
   "source": [
    "list1.index('orange')"
   ]
  },
  {
   "cell_type": "code",
   "execution_count": 30,
   "id": "886d4310",
   "metadata": {},
   "outputs": [
    {
     "data": {
      "text/plain": [
       "1"
      ]
     },
     "execution_count": 30,
     "metadata": {},
     "output_type": "execute_result"
    }
   ],
   "source": [
    "list1.count('kiwi')"
   ]
  },
  {
   "cell_type": "code",
   "execution_count": 31,
   "id": "0b16259e",
   "metadata": {},
   "outputs": [],
   "source": [
    "list1.clear()"
   ]
  },
  {
   "cell_type": "code",
   "execution_count": 32,
   "id": "a1d4e5fc",
   "metadata": {},
   "outputs": [
    {
     "data": {
      "text/plain": [
       "[]"
      ]
     },
     "execution_count": 32,
     "metadata": {},
     "output_type": "execute_result"
    }
   ],
   "source": [
    "list1"
   ]
  },
  {
   "cell_type": "code",
   "execution_count": 39,
   "id": "25da1d70",
   "metadata": {},
   "outputs": [],
   "source": [
    "list=['palm','olive','banana','chiku']"
   ]
  },
  {
   "cell_type": "code",
   "execution_count": 36,
   "id": "5e6afde6",
   "metadata": {},
   "outputs": [],
   "source": [
    "del list"
   ]
  },
  {
   "cell_type": "code",
   "execution_count": 37,
   "id": "17bdc05e",
   "metadata": {},
   "outputs": [
    {
     "data": {
      "text/plain": [
       "list"
      ]
     },
     "execution_count": 37,
     "metadata": {},
     "output_type": "execute_result"
    }
   ],
   "source": [
    "list"
   ]
  },
  {
   "cell_type": "code",
   "execution_count": 38,
   "id": "2a3a8a51",
   "metadata": {},
   "outputs": [
    {
     "name": "stdout",
     "output_type": "stream",
     "text": [
      "<class 'list'>\n"
     ]
    }
   ],
   "source": [
    "print(list)"
   ]
  },
  {
   "cell_type": "code",
   "execution_count": 40,
   "id": "11ae59eb",
   "metadata": {},
   "outputs": [
    {
     "name": "stdout",
     "output_type": "stream",
     "text": [
      "['palm', 'olive', 'banana', 'chiku']\n"
     ]
    }
   ],
   "source": [
    "print(list)"
   ]
  },
  {
   "cell_type": "code",
   "execution_count": 44,
   "id": "bea8377c",
   "metadata": {},
   "outputs": [],
   "source": [
    "del list[1]"
   ]
  },
  {
   "cell_type": "code",
   "execution_count": 45,
   "id": "0842beef",
   "metadata": {},
   "outputs": [],
   "source": [
    "del list[2]"
   ]
  },
  {
   "cell_type": "code",
   "execution_count": 46,
   "id": "c24a7b0e",
   "metadata": {},
   "outputs": [
    {
     "data": {
      "text/plain": [
       "['palm', 'banana']"
      ]
     },
     "execution_count": 46,
     "metadata": {},
     "output_type": "execute_result"
    }
   ],
   "source": [
    "list"
   ]
  },
  {
   "cell_type": "code",
   "execution_count": 47,
   "id": "97b3eeb5",
   "metadata": {},
   "outputs": [],
   "source": [
    "list.remove(\"palm\")\n"
   ]
  },
  {
   "cell_type": "code",
   "execution_count": 48,
   "id": "b9b1ab21",
   "metadata": {},
   "outputs": [
    {
     "data": {
      "text/plain": [
       "['banana']"
      ]
     },
     "execution_count": 48,
     "metadata": {},
     "output_type": "execute_result"
    }
   ],
   "source": [
    "list"
   ]
  },
  {
   "cell_type": "code",
   "execution_count": 1,
   "id": "6166997e",
   "metadata": {},
   "outputs": [
    {
     "name": "stdout",
     "output_type": "stream",
     "text": [
      "Ali\n",
      "Ali\n",
      "Ali\n",
      "Ali\n",
      "Ali\n",
      "Ali\n",
      "Ali\n",
      "Ali\n",
      "Ali\n",
      "Ali\n"
     ]
    }
   ],
   "source": [
    "for a in range(10):\n",
    "    print(\"Ali\")"
   ]
  },
  {
   "cell_type": "code",
   "execution_count": 2,
   "id": "991261e9",
   "metadata": {},
   "outputs": [
    {
     "name": "stdout",
     "output_type": "stream",
     "text": [
      "0 ALi\n",
      "1 ALi\n",
      "2 ALi\n",
      "3 ALi\n",
      "4 ALi\n",
      "5 ALi\n",
      "6 ALi\n",
      "7 ALi\n",
      "8 ALi\n",
      "9 ALi\n"
     ]
    }
   ],
   "source": [
    "for a in range(10):\n",
    "    print(a,\"ALi\")"
   ]
  },
  {
   "cell_type": "code",
   "execution_count": 3,
   "id": "4c80e7dd",
   "metadata": {},
   "outputs": [
    {
     "name": "stdout",
     "output_type": "stream",
     "text": [
      "0\n",
      "1\n",
      "2\n",
      "3\n",
      "4\n",
      "5\n",
      "6\n",
      "7\n",
      "8\n",
      "9\n"
     ]
    }
   ],
   "source": [
    "for number in range(10):\n",
    "    print(number)"
   ]
  },
  {
   "cell_type": "code",
   "execution_count": 5,
   "id": "2e397519",
   "metadata": {},
   "outputs": [
    {
     "name": "stdout",
     "output_type": "stream",
     "text": [
      "1\n",
      "2\n",
      "3\n",
      "4\n",
      "5\n",
      "6\n",
      "7\n",
      "8\n",
      "9\n"
     ]
    }
   ],
   "source": [
    "for number in range(1,10):\n",
    "    print(number)"
   ]
  },
  {
   "cell_type": "code",
   "execution_count": 6,
   "id": "213064d0",
   "metadata": {},
   "outputs": [
    {
     "name": "stdout",
     "output_type": "stream",
     "text": [
      "1\n",
      "3\n",
      "5\n",
      "7\n",
      "9\n"
     ]
    }
   ],
   "source": [
    "for number in range(1,11,2):\n",
    "    print(number)"
   ]
  },
  {
   "cell_type": "code",
   "execution_count": 7,
   "id": "3532296a",
   "metadata": {},
   "outputs": [
    {
     "name": "stdout",
     "output_type": "stream",
     "text": [
      "11\n",
      "9\n",
      "7\n",
      "5\n",
      "3\n"
     ]
    }
   ],
   "source": [
    "for number in range(11,1,-2):\n",
    "    print(number)"
   ]
  },
  {
   "cell_type": "code",
   "execution_count": 8,
   "id": "b392ed90",
   "metadata": {},
   "outputs": [
    {
     "name": "stdout",
     "output_type": "stream",
     "text": [
      "The City under the consideration in Karachi\n",
      "The City under the consideration in Multan\n",
      "The City under the consideration in Faislabad\n",
      "The City under the consideration in Islamabad\n",
      "The City under the consideration in Lahore\n"
     ]
    }
   ],
   "source": [
    "cities= [\"Karachi\",\"Multan\",\"Faislabad\",\"Islamabad\",\"Lahore\"]\n",
    "for city in cities:\n",
    "    print(f\"The City under the consideration in {city}\")"
   ]
  },
  {
   "cell_type": "code",
   "execution_count": 2,
   "id": "b3032d19",
   "metadata": {},
   "outputs": [
    {
     "name": "stdout",
     "output_type": "stream",
     "text": [
      "Enter Table Number4\n",
      "4 * 2 = 8\n",
      "4 * 3 = 12\n",
      "4 * 4 = 16\n",
      "4 * 5 = 20\n",
      "4 * 6 = 24\n",
      "4 * 7 = 28\n",
      "4 * 8 = 32\n",
      "4 * 9 = 36\n",
      "4 * 10 = 40\n"
     ]
    }
   ],
   "source": [
    "tablenumber = int(input(\"Enter Table Number\"))\n",
    "for a in range(2,11):\n",
    "    print(f\"{tablenumber} * {a} = {tablenumber*a}\")"
   ]
  },
  {
   "cell_type": "code",
   "execution_count": 3,
   "id": "eb587648",
   "metadata": {},
   "outputs": [
    {
     "name": "stdout",
     "output_type": "stream",
     "text": [
      "Enter Table Number5\n",
      "4 * 2 = 8\n",
      "4 * 3 = 12\n",
      "4 * 4 = 16\n",
      "4 * 5 = 20\n",
      "4 * 6 = 24\n",
      "4 * 7 = 28\n",
      "4 * 8 = 32\n",
      "4 * 9 = 36\n"
     ]
    }
   ],
   "source": [
    "tablenumnber = int(input(\"Enter Table Number\"))\n",
    "for a in range(2,10):\n",
    "    print(f\"{tablenumber} * {a} = {tablenumber*a}\")"
   ]
  },
  {
   "cell_type": "code",
   "execution_count": 7,
   "id": "facf9e7d",
   "metadata": {},
   "outputs": [
    {
     "name": "stdout",
     "output_type": "stream",
     "text": [
      "Enter Table10\n",
      "2 * 1 = 2\n",
      "2 * 2 = 4\n",
      "2 * 3 = 6\n",
      "2 * 4 = 8\n",
      "2 * 5 = 10\n",
      "2 * 6 = 12\n",
      "2 * 7 = 14\n",
      "2 * 8 = 16\n",
      "2 * 9 = 18\n",
      "2 * 10 = 20\n",
      "3 * 1 = 3\n",
      "3 * 2 = 6\n",
      "3 * 3 = 9\n",
      "3 * 4 = 12\n",
      "3 * 5 = 15\n",
      "3 * 6 = 18\n",
      "3 * 7 = 21\n",
      "3 * 8 = 24\n",
      "3 * 9 = 27\n",
      "3 * 10 = 30\n",
      "4 * 1 = 4\n",
      "4 * 2 = 8\n",
      "4 * 3 = 12\n",
      "4 * 4 = 16\n",
      "4 * 5 = 20\n",
      "4 * 6 = 24\n",
      "4 * 7 = 28\n",
      "4 * 8 = 32\n",
      "4 * 9 = 36\n",
      "4 * 10 = 40\n",
      "5 * 1 = 5\n",
      "5 * 2 = 10\n",
      "5 * 3 = 15\n",
      "5 * 4 = 20\n",
      "5 * 5 = 25\n",
      "5 * 6 = 30\n",
      "5 * 7 = 35\n",
      "5 * 8 = 40\n",
      "5 * 9 = 45\n",
      "5 * 10 = 50\n",
      "6 * 1 = 6\n",
      "6 * 2 = 12\n",
      "6 * 3 = 18\n",
      "6 * 4 = 24\n",
      "6 * 5 = 30\n",
      "6 * 6 = 36\n",
      "6 * 7 = 42\n",
      "6 * 8 = 48\n",
      "6 * 9 = 54\n",
      "6 * 10 = 60\n",
      "7 * 1 = 7\n",
      "7 * 2 = 14\n",
      "7 * 3 = 21\n",
      "7 * 4 = 28\n",
      "7 * 5 = 35\n",
      "7 * 6 = 42\n",
      "7 * 7 = 49\n",
      "7 * 8 = 56\n",
      "7 * 9 = 63\n",
      "7 * 10 = 70\n",
      "8 * 1 = 8\n",
      "8 * 2 = 16\n",
      "8 * 3 = 24\n",
      "8 * 4 = 32\n",
      "8 * 5 = 40\n",
      "8 * 6 = 48\n",
      "8 * 7 = 56\n",
      "8 * 8 = 64\n",
      "8 * 9 = 72\n",
      "8 * 10 = 80\n",
      "9 * 1 = 9\n",
      "9 * 2 = 18\n",
      "9 * 3 = 27\n",
      "9 * 4 = 36\n",
      "9 * 5 = 45\n",
      "9 * 6 = 54\n",
      "9 * 7 = 63\n",
      "9 * 8 = 72\n",
      "9 * 9 = 81\n",
      "9 * 10 = 90\n",
      "10 * 1 = 10\n",
      "10 * 2 = 20\n",
      "10 * 3 = 30\n",
      "10 * 4 = 40\n",
      "10 * 5 = 50\n",
      "10 * 6 = 60\n",
      "10 * 7 = 70\n",
      "10 * 8 = 80\n",
      "10 * 9 = 90\n",
      "10 * 10 = 100\n"
     ]
    }
   ],
   "source": [
    "tables = int(input(\"Enter Table\"))\n",
    "for table in range(2,tables+1):\n",
    "    for num in range(1,11):\n",
    "        print(f\"{table} * {num} = {table*num}\")"
   ]
  },
  {
   "cell_type": "code",
   "execution_count": 9,
   "id": "d808cb3b",
   "metadata": {},
   "outputs": [
    {
     "name": "stdout",
     "output_type": "stream",
     "text": [
      "Enter Table20\n",
      "10 *  1 = 10\n",
      "10 *  2 = 20\n",
      "10 *  3 = 30\n",
      "10 *  4 = 40\n",
      "10 *  5 = 50\n",
      "10 *  6 = 60\n",
      "10 *  7 = 70\n",
      "10 *  8 = 80\n",
      "10 *  9 = 90\n",
      "10 *  10 = 100\n",
      "11 *  1 = 11\n",
      "11 *  2 = 22\n",
      "11 *  3 = 33\n",
      "11 *  4 = 44\n",
      "11 *  5 = 55\n",
      "11 *  6 = 66\n",
      "11 *  7 = 77\n",
      "11 *  8 = 88\n",
      "11 *  9 = 99\n",
      "11 *  10 = 110\n",
      "12 *  1 = 12\n",
      "12 *  2 = 24\n",
      "12 *  3 = 36\n",
      "12 *  4 = 48\n",
      "12 *  5 = 60\n",
      "12 *  6 = 72\n",
      "12 *  7 = 84\n",
      "12 *  8 = 96\n",
      "12 *  9 = 108\n",
      "12 *  10 = 120\n",
      "13 *  1 = 13\n",
      "13 *  2 = 26\n",
      "13 *  3 = 39\n",
      "13 *  4 = 52\n",
      "13 *  5 = 65\n",
      "13 *  6 = 78\n",
      "13 *  7 = 91\n",
      "13 *  8 = 104\n",
      "13 *  9 = 117\n",
      "13 *  10 = 130\n",
      "14 *  1 = 14\n",
      "14 *  2 = 28\n",
      "14 *  3 = 42\n",
      "14 *  4 = 56\n",
      "14 *  5 = 70\n",
      "14 *  6 = 84\n",
      "14 *  7 = 98\n",
      "14 *  8 = 112\n",
      "14 *  9 = 126\n",
      "14 *  10 = 140\n",
      "15 *  1 = 15\n",
      "15 *  2 = 30\n",
      "15 *  3 = 45\n",
      "15 *  4 = 60\n",
      "15 *  5 = 75\n",
      "15 *  6 = 90\n",
      "15 *  7 = 105\n",
      "15 *  8 = 120\n",
      "15 *  9 = 135\n",
      "15 *  10 = 150\n",
      "16 *  1 = 16\n",
      "16 *  2 = 32\n",
      "16 *  3 = 48\n",
      "16 *  4 = 64\n",
      "16 *  5 = 80\n",
      "16 *  6 = 96\n",
      "16 *  7 = 112\n",
      "16 *  8 = 128\n",
      "16 *  9 = 144\n",
      "16 *  10 = 160\n",
      "17 *  1 = 17\n",
      "17 *  2 = 34\n",
      "17 *  3 = 51\n",
      "17 *  4 = 68\n",
      "17 *  5 = 85\n",
      "17 *  6 = 102\n",
      "17 *  7 = 119\n",
      "17 *  8 = 136\n",
      "17 *  9 = 153\n",
      "17 *  10 = 170\n",
      "18 *  1 = 18\n",
      "18 *  2 = 36\n",
      "18 *  3 = 54\n",
      "18 *  4 = 72\n",
      "18 *  5 = 90\n",
      "18 *  6 = 108\n",
      "18 *  7 = 126\n",
      "18 *  8 = 144\n",
      "18 *  9 = 162\n",
      "18 *  10 = 180\n",
      "19 *  1 = 19\n",
      "19 *  2 = 38\n",
      "19 *  3 = 57\n",
      "19 *  4 = 76\n",
      "19 *  5 = 95\n",
      "19 *  6 = 114\n",
      "19 *  7 = 133\n",
      "19 *  8 = 152\n",
      "19 *  9 = 171\n",
      "19 *  10 = 190\n",
      "20 *  1 = 20\n",
      "20 *  2 = 40\n",
      "20 *  3 = 60\n",
      "20 *  4 = 80\n",
      "20 *  5 = 100\n",
      "20 *  6 = 120\n",
      "20 *  7 = 140\n",
      "20 *  8 = 160\n",
      "20 *  9 = 180\n",
      "20 *  10 = 200\n"
     ]
    }
   ],
   "source": [
    "tables = int(input(\"Enter Table\"))\n",
    "for table in range(10,tables+1):\n",
    "    for num in range(1,11):\n",
    "        print(f\"{table} *  {num} = {table*num}\")"
   ]
  },
  {
   "cell_type": "code",
   "execution_count": null,
   "id": "d5767afa",
   "metadata": {},
   "outputs": [],
   "source": []
  }
 ],
 "metadata": {
  "kernelspec": {
   "display_name": "Python 3 (ipykernel)",
   "language": "python",
   "name": "python3"
  },
  "language_info": {
   "codemirror_mode": {
    "name": "ipython",
    "version": 3
   },
   "file_extension": ".py",
   "mimetype": "text/x-python",
   "name": "python",
   "nbconvert_exporter": "python",
   "pygments_lexer": "ipython3",
   "version": "3.9.12"
  }
 },
 "nbformat": 4,
 "nbformat_minor": 5
}
